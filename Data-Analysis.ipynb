{
 "cells": [
  {
   "cell_type": "code",
   "execution_count": 1,
   "id": "fc9ead4d",
   "metadata": {
    "ExecuteTime": {
     "end_time": "2023-11-13T12:38:01.377430Z",
     "start_time": "2023-11-13T12:37:45.744456Z"
    }
   },
   "outputs": [],
   "source": [
    "import numpy as np\n",
    "import torch\n",
    "import torchvision.transforms as T\n",
    "from PIL import Image, ImageColor"
   ]
  },
  {
   "cell_type": "code",
   "execution_count": 2,
   "id": "e9b0b93a",
   "metadata": {
    "ExecuteTime": {
     "end_time": "2023-11-13T12:38:01.453174Z",
     "start_time": "2023-11-13T12:38:01.422775Z"
    }
   },
   "outputs": [],
   "source": [
    "parts = {10: {'col': 'orange', 'name':'hood'}, \n",
    "         20: {'col':'darkgreen', 'name':'front door'}, \n",
    "         30: {'col':'yellow', 'name':'rear door'}, \n",
    "         40: {'col':'cyan', 'name':'frame'}, \n",
    "         50: {'col':'purple', 'name':'rear quarter panel'}, \n",
    "         60: {'col':'lightgreen', 'name':'trunk lid'}, \n",
    "         70: {'col':'blue', 'name':'fender'}, \n",
    "         80: {'col':'pink', 'name':'bumper'}, \n",
    "         90: {'col':'darkgray', 'name':'rest of car'},\n",
    "         0 : {'col':'black', 'name':'background'}}\n",
    "\n",
    "def display_car(data_arr):\n",
    "    # Can take both full data and already split data\n",
    "    if type(data_arr) == torch.Tensor: data_arr = np.moveaxis(data_arr.numpy().astype(np.uint8), 0, 2)\n",
    "    elif data_arr.shape[0] == 3: data_arr = np.moveaxis(data_arr.astype(np.uint8), 0, 2)\n",
    "    elif data_arr.shape[2] > 3: data_arr = data_arr[:,:,:3]\n",
    "    img = Image.fromarray(data_arr)\n",
    "    display(img) # img.show() for jupyter\n",
    "    \n",
    "def display_labels(data_arr):\n",
    "    # Can take both full data and already split data\n",
    "    if type(data_arr) == torch.Tensor: data_arr = data_arr.numpy()\n",
    "    if data_arr.dtype != np.uint8: data_arr = data_arr.astype(np.uint8)*10\n",
    "    if data_arr.ndim > 2: data_arr = data_arr[:,:,3]\n",
    "    img = Image.fromarray(data_arr)\n",
    "    pixels = list(img.getdata())\n",
    "    pixels = [ImageColor.getrgb(parts.get(pixel)['col']) for pixel in pixels]\n",
    "    image = Image.new(\"RGB\", (256, 256), (0,0,0))\n",
    "    image.putdata(pixels)\n",
    "    display(image)\n",
    "    \n",
    "def numpy_to_tensor(arr):\n",
    "    return np.moveaxis(arr, 2, 0).astype(np.float32)\n",
    "\n",
    "def tensor_to_numpy(tens):\n",
    "    arr = np.moveaxis(tens, 0, 2).astype(np.uint8)\n",
    "    return arr"
   ]
  },
  {
   "cell_type": "code",
   "execution_count": 3,
   "id": "1dff489d",
   "metadata": {
    "ExecuteTime": {
     "end_time": "2023-11-13T12:38:08.536258Z",
     "start_time": "2023-11-13T12:38:01.483441Z"
    }
   },
   "outputs": [],
   "source": [
    "import os\n",
    "import numpy as np\n",
    "from torch.utils.data import Dataset\n",
    "from skimage.transform import resize\n",
    "\n",
    "class CarDataset(Dataset):\n",
    "    def __init__(self, root, file_list: list=None):\n",
    "        self.root = root\n",
    "        self.filenames = os.listdir(self.root) if file_list is None else file_list\n",
    "        \n",
    "    def __len__(self):\n",
    "        return len(self.filenames)\n",
    "        \n",
    "    def __getitem__(self, index):\n",
    "        filename = self.filenames[index]\n",
    "        arr = np.load(os.path.join(self.root, filename))\n",
    "        car = arr[:,:,0:3]\n",
    "        # Resize function does not work on int dtypes, so we must convert to float before\n",
    "        car = resize(car.astype(np.float32), (256, 256))\n",
    "        # Convert to the torch tensor image convention (CxWxH)\n",
    "        car = np.moveaxis(car, 2, 0)\n",
    "        labels = arr[:,:,3]\n",
    "        labels = resize(labels.astype(np.float32), (256, 256))\n",
    "        \n",
    "        return torch.tensor(car), torch.tensor(labels/10)"
   ]
  },
  {
   "cell_type": "code",
   "execution_count": 4,
   "id": "7a495d29",
   "metadata": {
    "ExecuteTime": {
     "end_time": "2023-11-13T12:38:08.832435Z",
     "start_time": "2023-11-13T12:38:08.584430Z"
    }
   },
   "outputs": [
    {
     "data": {
      "image/jpeg": "[encoded data removed]",
      "image/png": "[encoded data removed]",
      "text/plain": [
       "<PIL.Image.Image image mode=RGB size=256x256>"
      ]
     },
     "metadata": {},
     "output_type": "display_data"
    },
    {
     "data": {
      "image/jpeg": "[encoded data removed]",
      "image/png": "[encoded data removed]",
      "text/plain": [
       "<PIL.Image.Image image mode=RGB size=256x256>"
      ]
     },
     "metadata": {},
     "output_type": "display_data"
    }
   ],
   "source": [
    "ds = CarDataset('./carseg_data-2/arrays')\n",
    "car, labels = ds[0]\n",
    "display_car(car)\n",
    "display_labels(labels)"
   ]
  },
  {
   "cell_type": "code",
   "execution_count": 5,
   "id": "75c18a05",
   "metadata": {
    "ExecuteTime": {
     "end_time": "2023-11-13T12:38:08.954953Z",
     "start_time": "2023-11-13T12:38:08.914686Z"
    }
   },
   "outputs": [],
   "source": [
    "from torch import nn\n",
    "import torch.nn.functional as F\n",
    "\n",
    "class UNet(nn.Module):\n",
    "    def __init__(self, in_channels, num_classes):\n",
    "        super(UNet, self).__init__()\n",
    "        self.encoder0 = nn.Sequential(ConvBlock(in_channels, 64))\n",
    "        self.encoder1 = nn.Sequential(nn.MaxPool2d(2,2), ConvBlock(64, 128))\n",
    "        self.encoder2 = nn.Sequential(nn.MaxPool2d(2,2), ConvBlock(128, 256))\n",
    "        self.bottleneck = nn.Sequential(nn.MaxPool2d(2,2), ConvBlock(256,512), nn.ConvTranspose2d(512, 256, kernel_size=2, stride=2))\n",
    "        self.decoder0 = nn.Sequential(ConvBlock(512,256), nn.ConvTranspose2d(256, 128, kernel_size=2, stride=2))\n",
    "        self.decoder1 = nn.Sequential(ConvBlock(256,128), nn.ConvTranspose2d(128, 64, kernel_size=2, stride=2))\n",
    "        self.decoder2 = nn.Sequential(ConvBlock(128,64), nn.Conv2d(in_channels=64, out_channels=num_classes, kernel_size=1))\n",
    "        \n",
    "    def forward(self, x):\n",
    "        # Add dimension if input is not batched\n",
    "        if x.ndim == 3: x = x.unsqueeze(0)\n",
    "            \n",
    "        x0 = self.encoder0(x)\n",
    "        x1 = self.encoder1(x0)\n",
    "        x2 = self.encoder2(x1)\n",
    "        x3 = self.bottleneck(x2)\n",
    "        x3 = self.decoder0(torch.cat([x2,x3],dim=1))\n",
    "        x3 = self.decoder1(torch.cat([x1,x3],dim=1))\n",
    "        x3 = self.decoder2(torch.cat([x0,x3],dim=1))\n",
    "        \n",
    "        return x3\n",
    "    \n",
    "class ConvBlock(nn.Module):\n",
    "    def __init__(self, in_channels, out_channels):\n",
    "        super(ConvBlock, self).__init__()\n",
    "        self.block = nn.Sequential(\n",
    "            nn.Conv2d(in_channels, out_channels, kernel_size=3, padding=1),\n",
    "            nn.ReLU(),\n",
    "            nn.Conv2d(out_channels, out_channels, kernel_size=3, padding=1),\n",
    "            nn.BatchNorm2d(out_channels),\n",
    "            nn.ReLU()\n",
    "        )\n",
    "    \n",
    "    def forward(self, x):\n",
    "        return self.block(x)"
   ]
  },
  {
   "cell_type": "code",
   "execution_count": 6,
   "id": "8c6976bc",
   "metadata": {
    "ExecuteTime": {
     "end_time": "2023-11-13T12:38:09.026671Z",
     "start_time": "2023-11-13T12:38:08.986680Z"
    }
   },
   "outputs": [
    {
     "name": "stdout",
     "output_type": "stream",
     "text": [
      "834 2001 168\n"
     ]
    }
   ],
   "source": [
    "black_car = []\n",
    "orange_car = []\n",
    "photos = []\n",
    "for file in os.listdir('./carseg_data-2/arrays'):\n",
    "    if 'orange' in file: orange_car.append(file)\n",
    "    elif 'black' in file: black_car.append(file)\n",
    "    elif 'photo' in file: photos.append(file)\n",
    "\n",
    "print(len(black_car), len(orange_car), len(photos))"
   ]
  },
  {
   "cell_type": "code",
   "execution_count": 7,
   "id": "d21212dc",
   "metadata": {
    "ExecuteTime": {
     "end_time": "2023-11-13T12:38:09.893877Z",
     "start_time": "2023-11-13T12:38:09.090680Z"
    }
   },
   "outputs": [],
   "source": [
    "from sklearn.model_selection import train_test_split\n",
    "from torch.utils.data import DataLoader\n",
    "\n",
    "root = './carseg_data-2/arrays'\n",
    "\n",
    "photo_train, photo_test = train_test_split(photos, test_size=0.2, random_state=42)\n",
    "black_train, black_test = train_test_split(black_car, test_size=0.2, random_state=42)\n",
    "orange_train, orange_test = train_test_split(orange_car, test_size=0.2, random_state=42)\n",
    "\n",
    "joint_train_ds = CarDataset(root, photo_train+black_train+orange_train)\n",
    "joint_test_ds = CarDataset(root, photo_test+black_test+orange_test)\n",
    "photo_test_ds = CarDataset(root, photo_test)\n",
    "black_test_ds = CarDataset(root, black_test)\n",
    "orange_test_ds = CarDataset(root, orange_test)\n",
    "\n",
    "train_dl = DataLoader(joint_train_ds, batch_size=16, shuffle=True)\n",
    "test_dl = DataLoader(joint_test_ds, batch_size=16)"
   ]
  },
  {
   "cell_type": "code",
   "execution_count": 10,
   "id": "71f19380",
   "metadata": {
    "ExecuteTime": {
     "end_time": "2023-11-13T12:40:29.794798Z",
     "start_time": "2023-11-13T12:39:54.938857Z"
    }
   },
   "outputs": [
    {
     "name": "stdout",
     "output_type": "stream",
     "text": [
      "Photo ds mean Dice:  0.71035093\n",
      "Black ds mean Dice:  0.8981885\n"
     ]
    }
   ],
   "source": [
    "device = torch.device('cuda')\n",
    "\n",
    "model = UNet(3,10).to(device)\n",
    "model.load_state_dict(torch.load('./Models/checkpoint/model_19_epochs_dice_09575.pth'))\n",
    "with torch.inference_mode():\n",
    "    dice_scores = []\n",
    "    for car, label in photo_test_ds:\n",
    "        car = car.to(device)\n",
    "        label = label.to(device)\n",
    "        out = torch.nn.Softmax2d()(model(car))\n",
    "        dice_score = dice(out, label.int())\n",
    "        dice_scores.append(dice_score.cpu())\n",
    "    print('Photo ds mean Dice: ',np.mean(dice_scores))\n",
    "    \n",
    "    for car, label in black_test_ds:\n",
    "        car = car.to(device)\n",
    "        label = label.to(device)\n",
    "        out = torch.nn.Softmax2d()(model(car))\n",
    "        dice_score = dice(out, label.int())\n",
    "        dice_scores.append(dice_score.cpu())\n",
    "    print('Black ds mean Dice: ',np.mean(dice_scores))"
   ]
  },
  {
   "cell_type": "markdown",
   "id": "1ca28e0e",
   "metadata": {},
   "source": [
    "This is the same as the previous cell but in cpu..."
   ]
  },
  {
   "cell_type": "code",
   "execution_count": 9,
   "id": "dc5b54ac",
   "metadata": {
    "ExecuteTime": {
     "end_time": "2023-11-13T12:39:51.870507Z",
     "start_time": "2023-11-13T12:39:39.226622Z"
    }
   },
   "outputs": [
    {
     "ename": "KeyboardInterrupt",
     "evalue": "",
     "output_type": "error",
     "traceback": [
      "\u001b[1;31m---------------------------------------------------------------------------\u001b[0m",
      "\u001b[1;31mKeyboardInterrupt\u001b[0m                         Traceback (most recent call last)",
      "\u001b[1;32m~\\AppData\\Local\\Temp\\ipykernel_18224\\1055161461.py\u001b[0m in \u001b[0;36m<cell line: 5>\u001b[1;34m()\u001b[0m\n\u001b[0;32m      5\u001b[0m \u001b[1;32mwith\u001b[0m \u001b[0mtorch\u001b[0m\u001b[1;33m.\u001b[0m\u001b[0minference_mode\u001b[0m\u001b[1;33m(\u001b[0m\u001b[1;33m)\u001b[0m\u001b[1;33m:\u001b[0m\u001b[1;33m\u001b[0m\u001b[1;33m\u001b[0m\u001b[0m\n\u001b[0;32m      6\u001b[0m     \u001b[0mdice_scores\u001b[0m \u001b[1;33m=\u001b[0m \u001b[1;33m[\u001b[0m\u001b[1;33m]\u001b[0m\u001b[1;33m\u001b[0m\u001b[1;33m\u001b[0m\u001b[0m\n\u001b[1;32m----> 7\u001b[1;33m     \u001b[1;32mfor\u001b[0m \u001b[0mcar\u001b[0m\u001b[1;33m,\u001b[0m \u001b[0mlabel\u001b[0m \u001b[1;32min\u001b[0m \u001b[0mphoto_test_ds\u001b[0m\u001b[1;33m:\u001b[0m\u001b[1;33m\u001b[0m\u001b[1;33m\u001b[0m\u001b[0m\n\u001b[0m\u001b[0;32m      8\u001b[0m         \u001b[0mout\u001b[0m \u001b[1;33m=\u001b[0m \u001b[0mtorch\u001b[0m\u001b[1;33m.\u001b[0m\u001b[0mnn\u001b[0m\u001b[1;33m.\u001b[0m\u001b[0mSoftmax2d\u001b[0m\u001b[1;33m(\u001b[0m\u001b[1;33m)\u001b[0m\u001b[1;33m(\u001b[0m\u001b[0mmodel\u001b[0m\u001b[1;33m(\u001b[0m\u001b[0mcar\u001b[0m\u001b[1;33m)\u001b[0m\u001b[1;33m)\u001b[0m\u001b[1;33m\u001b[0m\u001b[1;33m\u001b[0m\u001b[0m\n\u001b[0;32m      9\u001b[0m         \u001b[0mdice_score\u001b[0m \u001b[1;33m=\u001b[0m \u001b[0mdice\u001b[0m\u001b[1;33m(\u001b[0m\u001b[0mout\u001b[0m\u001b[1;33m,\u001b[0m \u001b[0mlabel\u001b[0m\u001b[1;33m.\u001b[0m\u001b[0mint\u001b[0m\u001b[1;33m(\u001b[0m\u001b[1;33m)\u001b[0m\u001b[1;33m)\u001b[0m\u001b[1;33m\u001b[0m\u001b[1;33m\u001b[0m\u001b[0m\n",
      "\u001b[1;32m~\\AppData\\Local\\Temp\\ipykernel_18224\\2101496549.py\u001b[0m in \u001b[0;36m__getitem__\u001b[1;34m(self, index)\u001b[0m\n\u001b[0;32m     17\u001b[0m         \u001b[0mcar\u001b[0m \u001b[1;33m=\u001b[0m \u001b[0marr\u001b[0m\u001b[1;33m[\u001b[0m\u001b[1;33m:\u001b[0m\u001b[1;33m,\u001b[0m\u001b[1;33m:\u001b[0m\u001b[1;33m,\u001b[0m\u001b[1;36m0\u001b[0m\u001b[1;33m:\u001b[0m\u001b[1;36m3\u001b[0m\u001b[1;33m]\u001b[0m\u001b[1;33m\u001b[0m\u001b[1;33m\u001b[0m\u001b[0m\n\u001b[0;32m     18\u001b[0m         \u001b[1;31m# Resize function does not work on int dtypes, so we must convert to float before\u001b[0m\u001b[1;33m\u001b[0m\u001b[1;33m\u001b[0m\u001b[0m\n\u001b[1;32m---> 19\u001b[1;33m         \u001b[0mcar\u001b[0m \u001b[1;33m=\u001b[0m \u001b[0mresize\u001b[0m\u001b[1;33m(\u001b[0m\u001b[0mcar\u001b[0m\u001b[1;33m.\u001b[0m\u001b[0mastype\u001b[0m\u001b[1;33m(\u001b[0m\u001b[0mnp\u001b[0m\u001b[1;33m.\u001b[0m\u001b[0mfloat32\u001b[0m\u001b[1;33m)\u001b[0m\u001b[1;33m,\u001b[0m \u001b[1;33m(\u001b[0m\u001b[1;36m256\u001b[0m\u001b[1;33m,\u001b[0m \u001b[1;36m256\u001b[0m\u001b[1;33m)\u001b[0m\u001b[1;33m)\u001b[0m\u001b[1;33m\u001b[0m\u001b[1;33m\u001b[0m\u001b[0m\n\u001b[0m\u001b[0;32m     20\u001b[0m         \u001b[1;31m# Convert to the torch tensor image convention (CxWxH)\u001b[0m\u001b[1;33m\u001b[0m\u001b[1;33m\u001b[0m\u001b[0m\n\u001b[0;32m     21\u001b[0m         \u001b[0mcar\u001b[0m \u001b[1;33m=\u001b[0m \u001b[0mnp\u001b[0m\u001b[1;33m.\u001b[0m\u001b[0mmoveaxis\u001b[0m\u001b[1;33m(\u001b[0m\u001b[0mcar\u001b[0m\u001b[1;33m,\u001b[0m \u001b[1;36m2\u001b[0m\u001b[1;33m,\u001b[0m \u001b[1;36m0\u001b[0m\u001b[1;33m)\u001b[0m\u001b[1;33m\u001b[0m\u001b[1;33m\u001b[0m\u001b[0m\n",
      "\u001b[1;32m~\\AppData\\Local\\Programs\\Python\\Python39\\lib\\site-packages\\skimage\\transform\\_warps.py\u001b[0m in \u001b[0;36mresize\u001b[1;34m(image, output_shape, order, mode, cval, clip, preserve_range, anti_aliasing, anti_aliasing_sigma)\u001b[0m\n\u001b[0;32m    185\u001b[0m         \u001b[1;31m# The grid_mode kwarg was introduced in SciPy 1.6.0\u001b[0m\u001b[1;33m\u001b[0m\u001b[1;33m\u001b[0m\u001b[0m\n\u001b[0;32m    186\u001b[0m         \u001b[0mzoom_factors\u001b[0m \u001b[1;33m=\u001b[0m \u001b[1;33m[\u001b[0m\u001b[1;36m1\u001b[0m \u001b[1;33m/\u001b[0m \u001b[0mf\u001b[0m \u001b[1;32mfor\u001b[0m \u001b[0mf\u001b[0m \u001b[1;32min\u001b[0m \u001b[0mfactors\u001b[0m\u001b[1;33m]\u001b[0m\u001b[1;33m\u001b[0m\u001b[1;33m\u001b[0m\u001b[0m\n\u001b[1;32m--> 187\u001b[1;33m         out = ndi.zoom(image, zoom_factors, order=order, mode=ndi_mode,\n\u001b[0m\u001b[0;32m    188\u001b[0m                        cval=cval, grid_mode=True)\n\u001b[0;32m    189\u001b[0m \u001b[1;33m\u001b[0m\u001b[0m\n",
      "\u001b[1;32m~\\AppData\\Local\\Programs\\Python\\Python39\\lib\\site-packages\\scipy\\ndimage\\_interpolation.py\u001b[0m in \u001b[0;36mzoom\u001b[1;34m(input, zoom, output, order, mode, cval, prefilter, grid_mode)\u001b[0m\n\u001b[0;32m    814\u001b[0m                         where=zoom_div != 0)\n\u001b[0;32m    815\u001b[0m     \u001b[0mzoom\u001b[0m \u001b[1;33m=\u001b[0m \u001b[0mnumpy\u001b[0m\u001b[1;33m.\u001b[0m\u001b[0mascontiguousarray\u001b[0m\u001b[1;33m(\u001b[0m\u001b[0mzoom\u001b[0m\u001b[1;33m)\u001b[0m\u001b[1;33m\u001b[0m\u001b[1;33m\u001b[0m\u001b[0m\n\u001b[1;32m--> 816\u001b[1;33m     _nd_image.zoom_shift(filtered, zoom, None, output, order, mode, cval, npad,\n\u001b[0m\u001b[0;32m    817\u001b[0m                          grid_mode)\n\u001b[0;32m    818\u001b[0m     \u001b[1;32mreturn\u001b[0m \u001b[0moutput\u001b[0m\u001b[1;33m\u001b[0m\u001b[1;33m\u001b[0m\u001b[0m\n",
      "\u001b[1;31mKeyboardInterrupt\u001b[0m: "
     ]
    }
   ],
   "source": [
    "from torchmetrics.functional import dice\n",
    "\n",
    "model = UNet(3,10)\n",
    "model.load_state_dict(torch.load('./Models/checkpoint/model_19_epochs_dice_09575.pth'))\n",
    "with torch.inference_mode():\n",
    "    dice_scores = []\n",
    "    for car, label in photo_test_ds:\n",
    "        out = torch.nn.Softmax2d()(model(car))\n",
    "        dice_score = dice(out, label.int())\n",
    "        dice_scores.append(dice_score)\n",
    "    print('Photo ds mean Dice: ',np.mean(dice_scores))\n",
    "    \n",
    "    for car, label in black_test_ds:\n",
    "        out = torch.nn.Softmax2d()(model(car))\n",
    "        dice_score = dice(out, label.int())\n",
    "        dice_scores.append(dice_score)\n",
    "    print('Black ds mean Dice: ',np.mean(dice_scores))"
   ]
  },
  {
   "cell_type": "code",
   "execution_count": null,
   "id": "68d39523",
   "metadata": {},
   "outputs": [],
   "source": []
  }
 ],
 "metadata": {
  "kernelspec": {
   "display_name": "Python 3 (ipykernel)",
   "language": "python",
   "name": "python3"
  },
  "language_info": {
   "codemirror_mode": {
    "name": "ipython",
    "version": 3
   },
   "file_extension": ".py",
   "mimetype": "text/x-python",
   "name": "python",
   "nbconvert_exporter": "python",
   "pygments_lexer": "ipython3",
   "version": "3.9.10"
  },
  "varInspector": {
   "cols": {
    "lenName": 16,
    "lenType": 16,
    "lenVar": 40
   },
   "kernels_config": {
    "python": {
     "delete_cmd_postfix": "",
     "delete_cmd_prefix": "del ",
     "library": "var_list.py",
     "varRefreshCmd": "print(var_dic_list())"
    },
    "r": {
     "delete_cmd_postfix": ") ",
     "delete_cmd_prefix": "rm(",
     "library": "var_list.r",
     "varRefreshCmd": "cat(var_dic_list()) "
    }
   },
   "types_to_exclude": [
    "module",
    "function",
    "builtin_function_or_method",
    "instance",
    "_Feature"
   ],
   "window_display": false
  }
 },
 "nbformat": 4,
 "nbformat_minor": 5
}
