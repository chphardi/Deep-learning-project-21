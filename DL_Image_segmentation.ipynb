{
  "cells": [
    {
      "cell_type": "code",
      "execution_count": null,
      "id": "207e05ac",
      "metadata": {
        "ExecuteTime": {
          "end_time": "2023-11-04T20:36:30.529567Z",
          "start_time": "2023-11-04T20:36:30.510549Z"
        },
        "id": "207e05ac"
      },
      "outputs": [],
      "source": [
        "import numpy as np\n",
        "from PIL import Image, ImageColor\n",
        "from google.colab import drive\n",
        "import skimage.io as io\n",
        "import numpy as np"
      ]
    },
    {
      "cell_type": "code",
      "source": [
        "drive.mount('/content/drive')\n",
        "drive_path = 'drive/My Drive/'"
      ],
      "metadata": {
        "colab": {
          "base_uri": "https://localhost:8080/"
        },
        "id": "l8QX28rPHzZH",
        "outputId": "2ca1b1fa-a769-4275-b3b7-45624e55ea81"
      },
      "id": "l8QX28rPHzZH",
      "execution_count": null,
      "outputs": [
        {
          "output_type": "stream",
          "name": "stdout",
          "text": [
            "Drive already mounted at /content/drive; to attempt to forcibly remount, call drive.mount(\"/content/drive\", force_remount=True).\n"
          ]
        }
      ]
    },
    {
      "cell_type": "code",
      "execution_count": null,
      "id": "ca547f91",
      "metadata": {
        "ExecuteTime": {
          "end_time": "2023-11-04T21:07:06.308385Z",
          "start_time": "2023-11-04T21:07:06.293404Z"
        },
        "id": "ca547f91"
      },
      "outputs": [],
      "source": [
        "parts = {10: {'col': 'orange', 'name':'hood'},\n",
        "         20: {'col':'darkgreen', 'name':'front door'},\n",
        "         30: {'col':'yellow', 'name':'rear door'},\n",
        "         40: {'col':'cyan', 'name':'frame'},\n",
        "         50: {'col':'purple', 'name':'rear quarter panel'},\n",
        "         60: {'col':'lightgreen', 'name':'trunk lid'},\n",
        "         70: {'col':'blue', 'name':'fender'},\n",
        "         80: {'col':'pink', 'name':'bumper'},\n",
        "         90: {'col':'darkgray', 'name':'rest of car'},\n",
        "         0 : {'col':'black', 'name':'background'}}\n",
        "\n",
        "def display_car(data_arr):\n",
        "    # Can take both full data and already split data\n",
        "    if type(data_arr) == torch.Tensor: data_arr = np.moveaxis(data_arr.numpy().astype(np.uint8), 0, 2)\n",
        "    elif data_arr.shape[0] == 3: data_arr = np.moveaxis(data_arr.astype(np.uint8), 0, 2)\n",
        "    elif data_arr.shape[2] > 3: data_arr = data_arr[:,:,:3]\n",
        "    img = Image.fromarray(data_arr)\n",
        "    display(img) # img.show() for jupyter\n",
        "\n",
        "def display_labels(data_arr):\n",
        "    # Can take both full data and already split data\n",
        "    if type(data_arr) == torch.Tensor: data_arr = data_arr.numpy()\n",
        "    if data_arr.dtype != np.uint8: data_arr = data_arr.astype(np.uint8)*10\n",
        "    if data_arr.ndim > 2: data_arr = data_arr[:,:,3]\n",
        "    img = Image.fromarray(data_arr)\n",
        "    pixels = list(img.getdata())\n",
        "    pixels = [ImageColor.getrgb(parts.get(pixel)['col']) for pixel in pixels]\n",
        "    image = Image.new(\"RGB\", (256, 256), (0,0,0))\n",
        "    image.putdata(pixels)\n",
        "    display(image)\n",
        "\n",
        "def numpy_to_tensor(arr):\n",
        "    return np.moveaxis(arr, 2, 0).astype(np.float32)\n",
        "\n",
        "def tensor_to_numpy(tens):\n",
        "    arr = np.moveaxis(tens, 0, 2).astype(np.uint8)\n",
        "    return arr"
      ]
    },
    {
      "cell_type": "code",
      "source": [
        "def add_background(car, labels, background):\n",
        "    mask = (labels == 0)\n",
        "    updated_car = np.where(mask[..., None], background, car)\n",
        "    updated_car = updated_car.squeeze()\n",
        "\n",
        "    return updated_car\n"
      ],
      "metadata": {
        "id": "uIt50DdGN7ZW"
      },
      "id": "uIt50DdGN7ZW",
      "execution_count": null,
      "outputs": []
    },
    {
      "cell_type": "code",
      "execution_count": null,
      "id": "02d48b75",
      "metadata": {
        "ExecuteTime": {
          "end_time": "2023-11-04T21:07:10.043135Z",
          "start_time": "2023-11-04T21:07:10.033140Z"
        },
        "id": "02d48b75"
      },
      "outputs": [],
      "source": [
        "import os\n",
        "import numpy as np\n",
        "from torch.utils.data import Dataset\n",
        "from skimage.transform import resize\n",
        "from PIL import Image\n",
        "import random\n",
        "\n",
        "class CarDataset(Dataset):\n",
        "    def __init__(self, root, file_list: list=None, backgrounds: list=None):\n",
        "\n",
        "        self.root = root\n",
        "        self.filenames = os.listdir(self.root) if file_list is None else file_list\n",
        "        if backgrounds is not None:\n",
        "          self.backgrounds = backgrounds\n",
        "        else:\n",
        "          self.backgrounds = None\n",
        "\n",
        "    def __len__(self):\n",
        "        return len(self.filenames)\n",
        "\n",
        "    def __getitem__(self, index):\n",
        "        filename = self.filenames[index]\n",
        "        arr = np.load(os.path.join(self.root, filename))\n",
        "        car = arr[:,:,0:3]\n",
        "        labels = arr[:,:,3]\n",
        "\n",
        "        if self.backgrounds is not None:\n",
        "          background = random.choices(self.backgrounds)\n",
        "          car = add_background(car, labels, background)\n",
        "\n",
        "        car = car.astype(np.float32)\n",
        "        car = np.moveaxis(car, 2, 0)\n",
        "\n",
        "        return car, labels/10"
      ]
    },
    {
      "cell_type": "code",
      "source": [
        "import os\n",
        "import numpy as np\n",
        "from PIL import Image\n",
        "\n",
        "def load_images_from_folder(folder_path, resize_shape=(256, 256), limit=100):\n",
        "    image_list = []\n",
        "    count = 0\n",
        "\n",
        "    for filename in os.listdir(folder_path):\n",
        "        # Check if the file is an image file (you can add more extensions if needed)\n",
        "        if filename.endswith(\".jpg\") or filename.endswith(\".png\") or filename.endswith(\".jpeg\"):\n",
        "            file_path = os.path.join(folder_path, filename)\n",
        "\n",
        "            # Open the image using PIL\n",
        "            img = Image.open(file_path)\n",
        "\n",
        "            # Resize the image\n",
        "            img = img.resize(resize_shape)\n",
        "\n",
        "            # Convert the image to a numpy array and append to the list\n",
        "            image_array = np.array(img)\n",
        "            image_list.append(image_array)\n",
        "\n",
        "            count += 1\n",
        "            if count >= limit:\n",
        "                break\n",
        "\n",
        "    return image_list\n",
        "\n",
        "# Example usage:\n",
        "folder_path = 'drive/My Drive/carseg_data/images/landscapes'\n",
        "backgrounds = load_images_from_folder(folder_path, limit=250)\n"
      ],
      "metadata": {
        "id": "GclJrpvISYQD"
      },
      "id": "GclJrpvISYQD",
      "execution_count": null,
      "outputs": []
    },
    {
      "cell_type": "code",
      "source": [
        "black_car = []\n",
        "orange_car = []\n",
        "photos = []\n",
        "for file in os.listdir(f'{drive_path}carseg_data/arrays'):\n",
        "    if 'orange' in file: orange_car.append(file)\n",
        "    elif 'black' in file: black_car.append(file)\n",
        "    elif 'photo' in file: photos.append(file)\n",
        "\n",
        "print(len(black_car), len(orange_car), len(photos))"
      ],
      "metadata": {
        "id": "CrsuTuMeU969",
        "colab": {
          "base_uri": "https://localhost:8080/"
        },
        "outputId": "44f6bb2c-381d-41d2-e595-7611a8719980"
      },
      "id": "CrsuTuMeU969",
      "execution_count": null,
      "outputs": [
        {
          "output_type": "stream",
          "name": "stdout",
          "text": [
            "919 2187 189\n"
          ]
        }
      ]
    },
    {
      "cell_type": "code",
      "source": [
        "from torch.utils.data import DataLoader, Subset\n",
        "from sklearn.model_selection import train_test_split\n",
        "from torch.utils.data import DataLoader\n",
        "\n",
        "root = f'{drive_path}carseg_data/arrays'\n",
        "\n",
        "photo_train, photo_test = train_test_split(photos, test_size=0.4, random_state=42)\n",
        "black_train, black_test = train_test_split(black_car, test_size=0.4, random_state=42)\n",
        "orange_train, orange_test = train_test_split(orange_car, test_size=0.4, random_state=42)\n",
        "\n",
        "photo_val, photo_test = train_test_split(photo_test, test_size=0.5, random_state=42)\n",
        "black_val, black_test = train_test_split(black_test, test_size=0.5, random_state=42)\n",
        "orange_val, orange_test = train_test_split(orange_test, test_size=0.5, random_state=42)\n",
        "\n",
        "\n",
        "joint_train_ds = CarDataset(root, photo_train*3+black_train+orange_train)\n",
        "joint_train_background_ds = CarDataset(root, black_train+orange_train, backgrounds)\n",
        "joint_val_ds = CarDataset(root, photo_val+black_val+orange_val)\n",
        "\n",
        "joint_test_ds = CarDataset(root, photo_test+black_test+orange_test)\n",
        "photo_test_ds = CarDataset(root, photo_test)\n",
        "black_test_ds = CarDataset(root, black_test)\n",
        "orange_test_ds = CarDataset(root, orange_test)\n",
        "\n",
        "\n",
        "train_loader = DataLoader(joint_train_ds+joint_train_background_ds, batch_size=16, shuffle=True)\n",
        "val_loader = DataLoader(joint_val_ds, batch_size=16)\n",
        "test_loader = DataLoader(joint_test_ds, batch_size=16)\n",
        "\n",
        "photo_test_loader =  DataLoader(photo_test_ds, batch_size=16)\n",
        "black_test_loader =  DataLoader(black_test_ds, batch_size=16)\n",
        "orange_test_loader =  DataLoader(orange_test_ds, batch_size=16)"
      ],
      "metadata": {
        "id": "zRX1q0M_RY9R"
      },
      "id": "zRX1q0M_RY9R",
      "execution_count": null,
      "outputs": []
    },
    {
      "cell_type": "code",
      "source": [
        "import torch\n",
        "from torch import nn\n",
        "import torch.nn.functional as F\n",
        "import numpy as np\n",
        "#!pip install torchmetrics\n",
        "from torchmetrics.classification import Dice"
      ],
      "metadata": {
        "id": "uU4bWOLvvyWV"
      },
      "id": "uU4bWOLvvyWV",
      "execution_count": null,
      "outputs": []
    },
    {
      "cell_type": "code",
      "source": [
        "class ConvBlock(nn.Module):\n",
        "    def __init__(self, in_channels, out_channels):\n",
        "        super().__init__()\n",
        "        self.block = nn.Sequential(\n",
        "            nn.Conv2d(in_channels, out_channels, kernel_size=3, padding=1),\n",
        "            nn.BatchNorm2d(out_channels),\n",
        "            nn.ReLU(),\n",
        "            nn.Dropout2d(0.3),\n",
        "            nn.Conv2d(out_channels, out_channels, kernel_size=3, padding=1),\n",
        "            nn.BatchNorm2d(out_channels),\n",
        "            nn.ReLU()\n",
        "        )\n",
        "\n",
        "    def forward(self, x):\n",
        "        return self.block(x)\n",
        "\n",
        "class UNet(nn.Module):\n",
        "    def __init__(self, in_channels, num_classes):\n",
        "        super(UNet, self).__init__()\n",
        "        self.encoder0 = nn.Sequential(ConvBlock(in_channels, 64))\n",
        "        self.encoder1 = nn.Sequential(nn.MaxPool2d(2,2), ConvBlock(64, 128))\n",
        "        self.encoder2 = nn.Sequential(nn.MaxPool2d(2,2), ConvBlock(128, 256))\n",
        "        self.bottleneck = nn.Sequential(nn.MaxPool2d(2,2), ConvBlock(256,512), nn.ConvTranspose2d(512, 256, kernel_size=2, stride=2))\n",
        "        self.decoder0 = nn.Sequential(ConvBlock(512,256), nn.ConvTranspose2d(256, 128, kernel_size=2, stride=2))\n",
        "        self.decoder1 = nn.Sequential(ConvBlock(256,128), nn.ConvTranspose2d(128, 64, kernel_size=2, stride=2))\n",
        "        self.decoder2 = nn.Sequential(ConvBlock(128,64), nn.Conv2d(in_channels=64, out_channels=num_classes, kernel_size=1))\n",
        "\n",
        "    def forward(self, x):\n",
        "        x0 = self.encoder0(x)\n",
        "        x1 = self.encoder1(x0)\n",
        "        x2 = self.encoder2(x1)\n",
        "        x3 = self.bottleneck(x2)\n",
        "        x3 = self.decoder0(torch.cat([x2,x3],dim=1))\n",
        "        x3 = self.decoder1(torch.cat([x1,x3],dim=1))\n",
        "        x3 = self.decoder2(torch.cat([x0,x3],dim=1))\n",
        "\n",
        "        return x3"
      ],
      "metadata": {
        "id": "1kNd_9agvsB5"
      },
      "id": "1kNd_9agvsB5",
      "execution_count": null,
      "outputs": []
    },
    {
      "cell_type": "code",
      "source": [
        "device = \"cuda\"\n",
        "model = UNet(3, 10).to(device)"
      ],
      "metadata": {
        "id": "mTOh4IglxbHw"
      },
      "id": "mTOh4IglxbHw",
      "execution_count": null,
      "outputs": []
    },
    {
      "cell_type": "code",
      "source": [
        "import torch.optim as optim\n",
        "\n",
        "criterion = nn.CrossEntropyLoss()\n",
        "optimizer = optim.Adam(model.parameters(), lr=0.001, weight_decay=1e-5)"
      ],
      "metadata": {
        "id": "PeWijAip7nDh"
      },
      "id": "PeWijAip7nDh",
      "execution_count": null,
      "outputs": []
    },
    {
      "cell_type": "code",
      "source": [
        "num_epochs = 75\n",
        "dice = Dice(average='micro')\n",
        "loaders = [train_loader, ]\n",
        "\n",
        "for epoch in range(num_epochs):\n",
        "    model.train()\n",
        "    total_train_loss = 0.0\n",
        "    dice_scores_train = []\n",
        "\n",
        "\n",
        "    for batch in train_loader:\n",
        "        inputs, labels = batch\n",
        "        inputs = inputs.to(device)\n",
        "        labels = labels.to(device)\n",
        "\n",
        "        inputs = inputs.float()\n",
        "        labels = labels.long().to(device)\n",
        "\n",
        "        # Forward pass\n",
        "        outputs = model(inputs)\n",
        "\n",
        "        # Calculate loss\n",
        "        loss = criterion(outputs, labels)\n",
        "\n",
        "        total_train_loss += loss.item()\n",
        "\n",
        "        # Calculate dice\n",
        "        _, pred = torch.max(outputs, 1)\n",
        "        pred_cpu = pred.to('cpu')\n",
        "        labels_cpu = labels.to('cpu')\n",
        "\n",
        "        dice_scores_train.append(dice(pred_cpu, labels_cpu))\n",
        "\n",
        "\n",
        "        # Backpropagation and optimization\n",
        "        optimizer.zero_grad()\n",
        "        loss.backward()\n",
        "        optimizer.step()\n",
        "\n",
        "    # Validation loop\n",
        "    model.eval()\n",
        "    total_val_loss = 0.0\n",
        "    dice_scores_val = []\n",
        "\n",
        "    for batch in val_loader:\n",
        "        inputs, labels = batch\n",
        "        inputs = inputs.to(device)\n",
        "        labels = labels.to(device)\n",
        "\n",
        "        inputs = inputs.float()\n",
        "        labels = labels.long().to(device)\n",
        "\n",
        "        with torch.no_grad():\n",
        "            outputs = model(inputs)\n",
        "            val_loss = criterion(outputs, labels)\n",
        "            total_val_loss += val_loss.item()\n",
        "\n",
        "            # Calculate dice\n",
        "            _, pred = torch.max(outputs, 1)\n",
        "            pred_cpu = pred.to('cpu')\n",
        "            labels_cpu = labels.to('cpu')\n",
        "\n",
        "            dice_scores_val.append(dice(pred_cpu, labels_cpu))\n",
        "\n",
        "\n",
        "    print(f\"Epoch {epoch + 1}/{num_epochs}, Train Loss: {(total_train_loss / len(train_loader)):.4f}, Train dice: {np.mean(dice_scores_train):.4f}, Val Loss: {(total_val_loss / len(val_loader)):.4f}, Val dice: {np.mean(dice_scores_val):.4f}\")\n"
      ],
      "metadata": {
        "colab": {
          "base_uri": "https://localhost:8080/"
        },
        "id": "8ugfQCb45aC-",
        "outputId": "ab88683a-ad82-450c-b760-102575ea591a"
      },
      "id": "8ugfQCb45aC-",
      "execution_count": null,
      "outputs": [
        {
          "output_type": "stream",
          "name": "stdout",
          "text": [
            "Epoch 1/75, Train Loss: 0.6951, Train dice: 0.7975, Val Loss: 0.4974, Val dice: 0.8361\n",
            "Epoch 2/75, Train Loss: 0.5097, Train dice: 0.8218, Val Loss: 0.4335, Val dice: 0.8449\n",
            "Epoch 3/75, Train Loss: 0.4723, Train dice: 0.8341, Val Loss: 0.3841, Val dice: 0.8641\n",
            "Epoch 4/75, Train Loss: 0.4438, Train dice: 0.8444, Val Loss: 0.4414, Val dice: 0.8468\n",
            "Epoch 5/75, Train Loss: 0.4141, Train dice: 0.8552, Val Loss: 0.3650, Val dice: 0.8614\n",
            "Epoch 6/75, Train Loss: 0.3784, Train dice: 0.8693, Val Loss: 0.3392, Val dice: 0.8742\n",
            "Epoch 7/75, Train Loss: 0.3607, Train dice: 0.8755, Val Loss: 0.2924, Val dice: 0.8884\n",
            "Epoch 8/75, Train Loss: 0.3351, Train dice: 0.8835, Val Loss: 0.2737, Val dice: 0.8972\n",
            "Epoch 9/75, Train Loss: 0.3116, Train dice: 0.8913, Val Loss: 0.2699, Val dice: 0.8975\n",
            "Epoch 10/75, Train Loss: 0.2926, Train dice: 0.8992, Val Loss: 0.2377, Val dice: 0.9109\n",
            "Epoch 11/75, Train Loss: 0.2668, Train dice: 0.9074, Val Loss: 0.2266, Val dice: 0.9124\n",
            "Epoch 12/75, Train Loss: 0.2496, Train dice: 0.9144, Val Loss: 0.2358, Val dice: 0.9083\n",
            "Epoch 13/75, Train Loss: 0.2404, Train dice: 0.9186, Val Loss: 0.2131, Val dice: 0.9186\n",
            "Epoch 14/75, Train Loss: 0.2271, Train dice: 0.9228, Val Loss: 0.1868, Val dice: 0.9312\n",
            "Epoch 15/75, Train Loss: 0.2085, Train dice: 0.9289, Val Loss: 0.1792, Val dice: 0.9364\n",
            "Epoch 16/75, Train Loss: 0.1940, Train dice: 0.9339, Val Loss: 0.1657, Val dice: 0.9395\n",
            "Epoch 17/75, Train Loss: 0.1817, Train dice: 0.9382, Val Loss: 0.1537, Val dice: 0.9451\n",
            "Epoch 18/75, Train Loss: 0.1824, Train dice: 0.9390, Val Loss: 0.1531, Val dice: 0.9437\n",
            "Epoch 19/75, Train Loss: 0.1701, Train dice: 0.9426, Val Loss: 0.1390, Val dice: 0.9497\n",
            "Epoch 20/75, Train Loss: 0.1583, Train dice: 0.9462, Val Loss: 0.1346, Val dice: 0.9510\n",
            "Epoch 21/75, Train Loss: 0.1543, Train dice: 0.9480, Val Loss: 0.1324, Val dice: 0.9512\n",
            "Epoch 22/75, Train Loss: 0.1410, Train dice: 0.9523, Val Loss: 0.1298, Val dice: 0.9534\n",
            "Epoch 23/75, Train Loss: 0.1356, Train dice: 0.9537, Val Loss: 0.1146, Val dice: 0.9585\n",
            "Epoch 24/75, Train Loss: 0.1291, Train dice: 0.9561, Val Loss: 0.1142, Val dice: 0.9583\n",
            "Epoch 25/75, Train Loss: 0.1290, Train dice: 0.9559, Val Loss: 0.1215, Val dice: 0.9569\n",
            "Epoch 26/75, Train Loss: 0.1168, Train dice: 0.9598, Val Loss: 0.1018, Val dice: 0.9634\n",
            "Epoch 27/75, Train Loss: 0.1133, Train dice: 0.9609, Val Loss: 0.1055, Val dice: 0.9621\n",
            "Epoch 28/75, Train Loss: 0.1119, Train dice: 0.9614, Val Loss: 0.0995, Val dice: 0.9647\n",
            "Epoch 29/75, Train Loss: 0.1043, Train dice: 0.9639, Val Loss: 0.0994, Val dice: 0.9636\n",
            "Epoch 30/75, Train Loss: 0.1015, Train dice: 0.9650, Val Loss: 0.1496, Val dice: 0.9493\n",
            "Epoch 31/75, Train Loss: 0.1116, Train dice: 0.9619, Val Loss: 0.1006, Val dice: 0.9649\n",
            "Epoch 32/75, Train Loss: 0.1077, Train dice: 0.9632, Val Loss: 0.0993, Val dice: 0.9657\n",
            "Epoch 33/75, Train Loss: 0.1092, Train dice: 0.9628, Val Loss: 0.0938, Val dice: 0.9661\n",
            "Epoch 34/75, Train Loss: 0.0892, Train dice: 0.9685, Val Loss: 0.0917, Val dice: 0.9673\n",
            "Epoch 35/75, Train Loss: 0.0956, Train dice: 0.9665, Val Loss: 0.0919, Val dice: 0.9673\n",
            "Epoch 36/75, Train Loss: 0.0793, Train dice: 0.9718, Val Loss: 0.0874, Val dice: 0.9690\n",
            "Epoch 37/75, Train Loss: 0.0769, Train dice: 0.9727, Val Loss: 0.0968, Val dice: 0.9670\n",
            "Epoch 38/75, Train Loss: 0.0838, Train dice: 0.9704, Val Loss: 0.0826, Val dice: 0.9707\n",
            "Epoch 39/75, Train Loss: 0.0769, Train dice: 0.9727, Val Loss: 0.1030, Val dice: 0.9656\n",
            "Epoch 40/75, Train Loss: 0.0985, Train dice: 0.9661, Val Loss: 0.1028, Val dice: 0.9650\n",
            "Epoch 41/75, Train Loss: 0.0846, Train dice: 0.9706, Val Loss: 0.0961, Val dice: 0.9669\n",
            "Epoch 42/75, Train Loss: 0.0836, Train dice: 0.9708, Val Loss: 0.0807, Val dice: 0.9716\n",
            "Epoch 43/75, Train Loss: 0.0672, Train dice: 0.9757, Val Loss: 0.0802, Val dice: 0.9725\n",
            "Epoch 44/75, Train Loss: 0.0618, Train dice: 0.9774, Val Loss: 0.0792, Val dice: 0.9726\n",
            "Epoch 45/75, Train Loss: 0.0667, Train dice: 0.9762, Val Loss: 0.0897, Val dice: 0.9693\n",
            "Epoch 46/75, Train Loss: 0.0945, Train dice: 0.9678, Val Loss: 0.0814, Val dice: 0.9720\n",
            "Epoch 47/75, Train Loss: 0.0663, Train dice: 0.9761, Val Loss: 0.0815, Val dice: 0.9720\n",
            "Epoch 48/75, Train Loss: 0.0665, Train dice: 0.9768, Val Loss: 0.0849, Val dice: 0.9720\n",
            "Epoch 49/75, Train Loss: 0.0857, Train dice: 0.9703, Val Loss: 0.0867, Val dice: 0.9716\n",
            "Epoch 50/75, Train Loss: 0.0781, Train dice: 0.9727, Val Loss: 0.0801, Val dice: 0.9720\n",
            "Epoch 51/75, Train Loss: 0.0596, Train dice: 0.9783, Val Loss: 0.0833, Val dice: 0.9716\n",
            "Epoch 52/75, Train Loss: 0.0588, Train dice: 0.9785, Val Loss: 0.0792, Val dice: 0.9735\n",
            "Epoch 53/75, Train Loss: 0.0604, Train dice: 0.9784, Val Loss: 0.0830, Val dice: 0.9731\n",
            "Epoch 54/75, Train Loss: 0.0841, Train dice: 0.9712, Val Loss: 0.0784, Val dice: 0.9732\n",
            "Epoch 55/75, Train Loss: 0.0619, Train dice: 0.9776, Val Loss: 0.0867, Val dice: 0.9715\n",
            "Epoch 56/75, Train Loss: 0.0720, Train dice: 0.9745, Val Loss: 0.0802, Val dice: 0.9733\n",
            "Epoch 57/75, Train Loss: 0.0540, Train dice: 0.9801, Val Loss: 0.0756, Val dice: 0.9750\n",
            "Epoch 58/75, Train Loss: 0.0513, Train dice: 0.9811, Val Loss: 0.0758, Val dice: 0.9753\n",
            "Epoch 59/75, Train Loss: 0.0511, Train dice: 0.9810, Val Loss: 0.0812, Val dice: 0.9733\n",
            "Epoch 60/75, Train Loss: 0.0628, Train dice: 0.9776, Val Loss: 0.0876, Val dice: 0.9726\n",
            "Epoch 61/75, Train Loss: 0.0781, Train dice: 0.9728, Val Loss: 0.0846, Val dice: 0.9725\n",
            "Epoch 62/75, Train Loss: 0.0667, Train dice: 0.9764, Val Loss: 0.0844, Val dice: 0.9716\n",
            "Epoch 63/75, Train Loss: 0.0619, Train dice: 0.9781, Val Loss: 0.0832, Val dice: 0.9732\n",
            "Epoch 64/75, Train Loss: 0.0617, Train dice: 0.9778, Val Loss: 0.0789, Val dice: 0.9739\n",
            "Epoch 65/75, Train Loss: 0.0632, Train dice: 0.9771, Val Loss: 0.0743, Val dice: 0.9754\n",
            "Epoch 66/75, Train Loss: 0.0509, Train dice: 0.9812, Val Loss: 0.0748, Val dice: 0.9758\n",
            "Epoch 67/75, Train Loss: 0.0474, Train dice: 0.9822, Val Loss: 0.0798, Val dice: 0.9751\n",
            "Epoch 68/75, Train Loss: 0.0486, Train dice: 0.9820, Val Loss: 0.0767, Val dice: 0.9757\n",
            "Epoch 69/75, Train Loss: 0.0456, Train dice: 0.9829, Val Loss: 0.0755, Val dice: 0.9759\n",
            "Epoch 70/75, Train Loss: 0.0608, Train dice: 0.9784, Val Loss: 0.0829, Val dice: 0.9727\n",
            "Epoch 71/75, Train Loss: 0.0500, Train dice: 0.9815, Val Loss: 0.0787, Val dice: 0.9742\n",
            "Epoch 72/75, Train Loss: 0.0465, Train dice: 0.9828, Val Loss: 0.0842, Val dice: 0.9733\n",
            "Epoch 73/75, Train Loss: 0.0590, Train dice: 0.9790, Val Loss: 0.0791, Val dice: 0.9731\n",
            "Epoch 74/75, Train Loss: 0.0523, Train dice: 0.9809, Val Loss: 0.0749, Val dice: 0.9752\n",
            "Epoch 75/75, Train Loss: 0.0447, Train dice: 0.9833, Val Loss: 0.0751, Val dice: 0.9766\n"
          ]
        }
      ]
    },
    {
      "cell_type": "code",
      "source": [
        "def test_model(model, loader):\n",
        "  \"\"\"Test a model on a test dataset\"\"\"\n",
        "  dice = Dice(average='micro')\n",
        "  model.eval()\n",
        "  dice_scores = []\n",
        "\n",
        "  for batch in loader:\n",
        "      inputs, labels = batch\n",
        "      inputs, labels = batch\n",
        "      inputs = inputs.to(device)\n",
        "      labels = labels.to(device)\n",
        "\n",
        "      inputs = inputs.float()\n",
        "      labels = labels.long().to(device)\n",
        "\n",
        "      with torch.no_grad():\n",
        "          outputs = model(inputs)\n",
        "\n",
        "          # Calculate accuracy on the test set\n",
        "          _, pred = torch.max(outputs, 1)\n",
        "\n",
        "          # Move tensors to CPU before performing numpy operations\n",
        "          pred_cpu = pred.to('cpu')\n",
        "          labels_cpu = labels.to('cpu')\n",
        "\n",
        "          dice_scores.append(dice(pred_cpu, labels_cpu))\n",
        "\n",
        "  return np.mean(dice_scores)\n",
        "\n"
      ],
      "metadata": {
        "id": "xQaY9sY_cI_V"
      },
      "id": "xQaY9sY_cI_V",
      "execution_count": null,
      "outputs": []
    },
    {
      "cell_type": "code",
      "source": [
        "test_model(model, photo_test_loader)"
      ],
      "metadata": {
        "colab": {
          "base_uri": "https://localhost:8080/"
        },
        "id": "p-wblPWlpEiF",
        "outputId": "b0945db7-f12a-4293-c501-9d2125ba9339"
      },
      "id": "p-wblPWlpEiF",
      "execution_count": null,
      "outputs": [
        {
          "output_type": "execute_result",
          "data": {
            "text/plain": [
              "0.8418195"
            ]
          },
          "metadata": {},
          "execution_count": 300
        }
      ]
    },
    {
      "cell_type": "code",
      "source": [
        "test_model(model, black_test_loader)"
      ],
      "metadata": {
        "colab": {
          "base_uri": "https://localhost:8080/"
        },
        "id": "fzwIdNwLvZyu",
        "outputId": "69faf5d3-23db-4ffd-86bc-2c7f443d9a2c"
      },
      "id": "fzwIdNwLvZyu",
      "execution_count": null,
      "outputs": [
        {
          "output_type": "execute_result",
          "data": {
            "text/plain": [
              "0.9842939"
            ]
          },
          "metadata": {},
          "execution_count": 301
        }
      ]
    },
    {
      "cell_type": "code",
      "source": [
        "test_model(model, orange_test_loader)"
      ],
      "metadata": {
        "colab": {
          "base_uri": "https://localhost:8080/"
        },
        "id": "Bhlk7vFJx0Yi",
        "outputId": "20a3f729-46a8-4676-fae2-7931bb1ec846"
      },
      "id": "Bhlk7vFJx0Yi",
      "execution_count": null,
      "outputs": [
        {
          "output_type": "execute_result",
          "data": {
            "text/plain": [
              "0.9854847"
            ]
          },
          "metadata": {},
          "execution_count": 302
        }
      ]
    },
    {
      "cell_type": "code",
      "source": [
        "test_model(model, test_loader)"
      ],
      "metadata": {
        "colab": {
          "base_uri": "https://localhost:8080/"
        },
        "id": "XJ_nju9sx2RG",
        "outputId": "63c68636-5a58-4d6e-e812-44126b40451e"
      },
      "id": "XJ_nju9sx2RG",
      "execution_count": null,
      "outputs": [
        {
          "output_type": "execute_result",
          "data": {
            "text/plain": [
              "0.97684497"
            ]
          },
          "metadata": {},
          "execution_count": 303
        }
      ]
    },
    {
      "cell_type": "code",
      "source": [
        "torch.save(model.state_dict(), f'{drive_path}carseg_data/model2.pth')"
      ],
      "metadata": {
        "id": "nSig9FTq9wpq"
      },
      "id": "nSig9FTq9wpq",
      "execution_count": null,
      "outputs": []
    },
    {
      "cell_type": "markdown",
      "source": [
        "## Original\n",
        "\n",
        "Photos: 0.8259544\\\n",
        "Black: 0.9816798\\\n",
        "Orange: 0.98628855\\\n",
        "Test: 0.9728253"
      ],
      "metadata": {
        "id": "jO5exdysxHFk"
      },
      "id": "jO5exdysxHFk"
    },
    {
      "cell_type": "markdown",
      "source": [
        "# Added photos\n",
        "\n",
        "Photos: 0.83027714\\\n",
        "Black: 0.9769864\\\n",
        "Orange: 0.98165745\\\n",
        "Test: 0.9720461"
      ],
      "metadata": {
        "id": "04qmVMsGGH9h"
      },
      "id": "04qmVMsGGH9h"
    },
    {
      "cell_type": "markdown",
      "source": [
        "## Added photos and background\n",
        "\n",
        "Photos: 0.8418195\\\n",
        "Black: 0.9842939\\\n",
        "Orange: 0.9854847\\\n",
        "Test: 0.97684497\n",
        "\n"
      ],
      "metadata": {
        "id": "kGmyT6xBIg_9"
      },
      "id": "kGmyT6xBIg_9"
    },
    {
      "cell_type": "code",
      "source": [],
      "metadata": {
        "id": "RKgLcOX-iNXY"
      },
      "id": "RKgLcOX-iNXY",
      "execution_count": null,
      "outputs": []
    }
  ],
  "metadata": {
    "kernelspec": {
      "display_name": "Python 3",
      "name": "python3"
    },
    "language_info": {
      "codemirror_mode": {
        "name": "ipython",
        "version": 3
      },
      "file_extension": ".py",
      "mimetype": "text/x-python",
      "name": "python",
      "nbconvert_exporter": "python",
      "pygments_lexer": "ipython3",
      "version": "3.9.10"
    },
    "varInspector": {
      "cols": {
        "lenName": 16,
        "lenType": 16,
        "lenVar": 40
      },
      "kernels_config": {
        "python": {
          "delete_cmd_postfix": "",
          "delete_cmd_prefix": "del ",
          "library": "var_list.py",
          "varRefreshCmd": "print(var_dic_list())"
        },
        "r": {
          "delete_cmd_postfix": ") ",
          "delete_cmd_prefix": "rm(",
          "library": "var_list.r",
          "varRefreshCmd": "cat(var_dic_list()) "
        }
      },
      "types_to_exclude": [
        "module",
        "function",
        "builtin_function_or_method",
        "instance",
        "_Feature"
      ],
      "window_display": false
    },
    "colab": {
      "provenance": [],
      "machine_shape": "hm",
      "gpuType": "A100"
    },
    "accelerator": "GPU"
  },
  "nbformat": 4,
  "nbformat_minor": 5
}